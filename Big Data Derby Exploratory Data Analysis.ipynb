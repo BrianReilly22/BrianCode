{
 "cells": [
  {
   "cell_type": "code",
   "execution_count": null,
   "metadata": {
    "_cell_guid": "b1076dfc-b9ad-4769-8c92-a6c4dae69d19",
    "_uuid": "8f2839f25d086af736a60e9eeb907d3b93b6e0e5",
    "execution": {
     "iopub.execute_input": "2022-08-21T03:53:57.235873Z",
     "iopub.status.busy": "2022-08-21T03:53:57.235413Z",
     "iopub.status.idle": "2022-08-21T03:54:00.332502Z",
     "shell.execute_reply": "2022-08-21T03:54:00.331833Z",
     "shell.execute_reply.started": "2022-08-21T03:53:57.235764Z"
    }
   },
   "outputs": [],
   "source": [
    "import numpy as np # linear algebra\n",
    "import pandas as pd # data processing, CSV file I/O (e.g. pd.read_csv)\n",
    "import plotly.express as px #graphing\n",
    "import plotly.graph_objects as go #graphing\n",
    "from plotly.subplots import make_subplots #graphing\n",
    "import plotly.figure_factory as ff #graphing\n",
    "import matplotlib.pyplot as plt #graphing\n",
    "import seaborn as sns #graphing\n",
    "import missingno as msno #describe data\n",
    "import os\n",
    "\n",
    "colors = [\"#FFFFFF\", \"#6CD4FF\", \"#F7DF00\", \"#E60000\"]\n",
    "\n",
    "from plotly.offline import plot, iplot, init_notebook_mode\n",
    "import plotly.graph_objs as go\n",
    "init_notebook_mode(connected=True)\n",
    "\n",
    "plt.rcParams[\"figure.figsize\"] = (12, 8)\n",
    "\n",
    "for dirname, _, filenames in os.walk('/kaggle/input'):\n",
    "    for filename in filenames:\n",
    "        print(os.path.join(dirname, filename))"
   ]
  },
  {
   "cell_type": "code",
   "execution_count": null,
   "metadata": {
    "execution": {
     "iopub.execute_input": "2022-08-21T03:54:00.334496Z",
     "iopub.status.busy": "2022-08-21T03:54:00.334032Z",
     "iopub.status.idle": "2022-08-21T03:54:16.881338Z",
     "shell.execute_reply": "2022-08-21T03:54:16.880407Z",
     "shell.execute_reply.started": "2022-08-21T03:54:00.334468Z"
    }
   },
   "outputs": [],
   "source": [
    "nyra_tracking = pd.read_csv(\"/kaggle/input/big-data-derby-2022/nyra_tracking_table.csv\")\n",
    "nyra_start = pd.read_csv(\"/kaggle/input/big-data-derby-2022/nyra_start_table.csv\")\n",
    "nyra_race = pd.read_csv(\"/kaggle/input/big-data-derby-2022/nyra_race_table.csv\")\n",
    "nyra_2019 = pd.read_csv(\"/kaggle/input/big-data-derby-2022/nyra_2019_complete.csv\")"
   ]
  },
  {
   "cell_type": "code",
   "execution_count": null,
   "metadata": {
    "execution": {
     "iopub.execute_input": "2022-08-16T17:37:59.958091Z",
     "iopub.status.busy": "2022-08-16T17:37:59.957743Z",
     "iopub.status.idle": "2022-08-16T17:37:59.981203Z",
     "shell.execute_reply": "2022-08-16T17:37:59.98004Z",
     "shell.execute_reply.started": "2022-08-16T17:37:59.958058Z"
    }
   },
   "outputs": [],
   "source": [
    "nyra_2019.head()"
   ]
  },
  {
   "cell_type": "code",
   "execution_count": null,
   "metadata": {},
   "outputs": [],
   "source": [
    "nyra_2019.describe().style.background_gradient(cmap = \"Purples\")"
   ]
  },
  {
   "cell_type": "code",
   "execution_count": null,
   "metadata": {},
   "outputs": [],
   "source": [
    "nyra_tracking.track_id.value_counts()"
   ]
  },
  {
   "cell_type": "code",
   "execution_count": null,
   "metadata": {},
   "outputs": [],
   "source": [
    "nyra_tracking.race_number.value_counts()"
   ]
  },
  {
   "cell_type": "code",
   "execution_count": null,
   "metadata": {},
   "outputs": [],
   "source": [
    "nyra_tracking.program_number.value_counts()"
   ]
  },
  {
   "cell_type": "code",
   "execution_count": null,
   "metadata": {
    "_kg_hide-input": true,
    "execution": {
     "iopub.execute_input": "2022-08-21T03:54:16.882741Z",
     "iopub.status.busy": "2022-08-21T03:54:16.88249Z",
     "iopub.status.idle": "2022-08-21T03:54:17.854515Z",
     "shell.execute_reply": "2022-08-21T03:54:17.853561Z",
     "shell.execute_reply.started": "2022-08-21T03:54:16.882716Z"
    }
   },
   "outputs": [],
   "source": [
    "nyra_tracking['race_date'] = pd.to_datetime(nyra_tracking['race_date'])\n",
    "nyra_tracking['day'], nyra_tracking['month'] = nyra_tracking['race_date'].dt.day, nyra_tracking['race_date'].dt.month"
   ]
  },
  {
   "cell_type": "markdown",
   "metadata": {},
   "source": [
    "# track_id = AQU"
   ]
  },
  {
   "cell_type": "code",
   "execution_count": null,
   "metadata": {
    "_kg_hide-input": true
   },
   "outputs": [],
   "source": [
    "nyra_tracking0 = nyra_tracking[nyra_tracking[\"track_id\"] == \"AQU\"]\n",
    "nyra_tracking1 = nyra_tracking0[nyra_tracking0[\"month\"] == 11]\n",
    "\n",
    "plt.style.use(\"dark_background\")\n",
    "plt.figure(figsize = (16, 8))\n",
    "sns.scatterplot(data = nyra_tracking1, x = \"longitude\", y = \"latitude\", hue = \"race_number\", palette = \"Paired\")\n",
    "\n",
    "plt.title(\"track_id = AQU, Longitude and Latitude by Race Number\")\n",
    "plt.legend()"
   ]
  },
  {
   "cell_type": "markdown",
   "metadata": {},
   "source": [
    "# track_id = BEL"
   ]
  },
  {
   "cell_type": "code",
   "execution_count": null,
   "metadata": {
    "_kg_hide-input": true
   },
   "outputs": [],
   "source": [
    "nyra_tracking0 = nyra_tracking[nyra_tracking[\"track_id\"] == \"BEL\"]\n",
    "nyra_tracking1 = nyra_tracking0[nyra_tracking0[\"month\"] == 5]\n",
    "\n",
    "plt.style.use(\"dark_background\")\n",
    "plt.figure(figsize = (16, 8))\n",
    "sns.scatterplot(data = nyra_tracking1, x = \"longitude\", y = \"latitude\", hue = \"race_number\", palette = \"Paired\")\n",
    "\n",
    "plt.title(\"track_id = BEL, Longitude and Latitude by Race Number\")\n",
    "plt.legend()"
   ]
  },
  {
   "cell_type": "markdown",
   "metadata": {},
   "source": [
    "# track_id = SAR"
   ]
  },
  {
   "cell_type": "code",
   "execution_count": null,
   "metadata": {
    "_kg_hide-input": true
   },
   "outputs": [],
   "source": [
    "nyra_tracking0 = nyra_tracking[nyra_tracking[\"track_id\"] == \"SAR\"]\n",
    "nyra_tracking1 = nyra_tracking0[nyra_tracking0[\"month\"] == 9]\n",
    "\n",
    "plt.style.use(\"dark_background\")\n",
    "plt.figure(figsize = (16, 8))\n",
    "sns.scatterplot(data = nyra_tracking1, x = \"longitude\", y = \"latitude\", hue = \"race_number\", palette = \"Paired\")\n",
    "\n",
    "plt.title(\"track_id = SAR, Longitude and Latitude by Race Number\")\n",
    "plt.legend()"
   ]
  },
  {
   "cell_type": "code",
   "execution_count": null,
   "metadata": {
    "execution": {
     "iopub.execute_input": "2022-08-21T03:54:45.059942Z",
     "iopub.status.busy": "2022-08-21T03:54:45.059031Z",
     "iopub.status.idle": "2022-08-21T03:54:45.297208Z",
     "shell.execute_reply": "2022-08-21T03:54:45.29576Z",
     "shell.execute_reply.started": "2022-08-21T03:54:45.059907Z"
    }
   },
   "outputs": [],
   "source": [
    "nyra_2019.race_number.hist(bins = 12)"
   ]
  },
  {
   "cell_type": "markdown",
   "metadata": {},
   "source": [
    "# Jockey Samuel Camacho Jr. - Trakus Index Race Animation"
   ]
  },
  {
   "cell_type": "code",
   "execution_count": null,
   "metadata": {
    "_kg_hide-input": true
   },
   "outputs": [],
   "source": [
    "jockey = nyra_2019[nyra_2019[\"jockey\"] == \"Samuel Camacho Jr.\"]\n",
    "jockey6 = jockey[jockey[\"race_number\"] == 6]\n",
    "jockeyBEL = jockey6[jockey6[\"track_id\"] == \"BEL\"]\n",
    "jockeyALW = jockeyBEL[jockeyBEL[\"race_type\"] == \"ALW\"]\n",
    "jockeyCLM = jockeyBEL[jockeyBEL[\"race_type\"] == \"CLM\"]\n",
    "jockeyALW = jockeyALW.sort_values(by = \"trakus_index\", ascending = True)\n",
    "\n",
    "fig = px.scatter(jockeyALW, x = \"longitude\", y = \"latitude\", hover_data = [\"race_type\", \"track_id\"],\n",
    "                 animation_frame = \"longitude\",\n",
    "                 range_y = (40.7122, 40.718),\n",
    "                 range_x = (-73.719, -73.73),\n",
    "                 #size = \"trakus_index\",\n",
    "                 color = \"trakus_index\", color_continuous_scale = \"Turbo\", range_color = (0, 299),\n",
    "                 title = \"Samuel Camacho Jr. - Trakus Index,  Race Number = 6,  track_id = BEL\")\n",
    "\n",
    "fig.layout.updatemenus[0].buttons[0].args[1]['frame']['duration'] = 30\n",
    "fig.layout.updatemenus[0].buttons[0].args[1]['transition']['duration'] = 5\n",
    "fig.update_traces(marker = dict(symbol = \"circle-open\", size = 20)) # scaling the markers\n",
    "fig.update_layout(template = \"plotly_dark\", font = dict(family = \"PT Sans\", size = 12))\n",
    "fig.show()"
   ]
  },
  {
   "cell_type": "markdown",
   "metadata": {},
   "source": [
    "# Jockey Flavien Prat - Trakus Index Race Animation"
   ]
  },
  {
   "cell_type": "code",
   "execution_count": null,
   "metadata": {
    "_kg_hide-input": true
   },
   "outputs": [],
   "source": [
    "jockey = nyra_2019[nyra_2019[\"jockey\"] == \"Flavien Prat\"]\n",
    "jockey6 = jockey[jockey[\"race_number\"] == 6]\n",
    "jockeyBEL = jockey6[jockey6[\"track_id\"] == \"BEL\"]\n",
    "jockeyALW = jockeyBEL[jockeyBEL[\"race_type\"] == \"ALW\"]\n",
    "jockeyCLM = jockeyBEL[jockeyBEL[\"race_type\"] == \"CLM\"]\n",
    "jockeyALW = jockeyALW.sort_values(by = \"trakus_index\", ascending = True)\n",
    "\n",
    "fig = px.scatter(jockeyALW, x = \"longitude\", y = \"latitude\", hover_data = [\"race_type\", \"track_id\"],\n",
    "                 animation_frame = \"longitude\",\n",
    "                 range_y = (40.7122, 40.718),\n",
    "                 range_x = (-73.719, -73.73),\n",
    "                # size = \"trakus_index\",\n",
    "                 color = \"trakus_index\", color_continuous_scale = \"Turbo\", range_color = (0, 299),\n",
    "                 title = \"Flavien Prat - Trakus Index,  Race Number = 6,  track_id = BEL\")\n",
    "\n",
    "fig.layout.updatemenus[0].buttons[0].args[1]['frame']['duration'] = 30\n",
    "fig.layout.updatemenus[0].buttons[0].args[1]['transition']['duration'] = 5\n",
    "fig.update_traces(marker = dict(symbol = \"circle-open\", size = 20)) # scaling the markers\n",
    "fig.update_layout(template = \"plotly_dark\", font = dict(family = \"PT Sans\", size = 12))\n",
    "fig.show()"
   ]
  },
  {
   "cell_type": "markdown",
   "metadata": {},
   "source": [
    "# Jockey Flavien Prat - Trakus Index Race Pathing by Odds of Winning"
   ]
  },
  {
   "cell_type": "code",
   "execution_count": null,
   "metadata": {
    "_kg_hide-input": true
   },
   "outputs": [],
   "source": [
    "jockey = nyra_2019[nyra_2019[\"jockey\"] == \"Flavien Prat\"]\n",
    "races_bel = jockey[jockey[\"track_id\"] == 'BEL']\n",
    "\n",
    "for odds in sorted([690, 650, 1840, 70, 520, 2140, 400, 2775, 700, 160, 1910, 1030, 660]):\n",
    "    \n",
    "    df0 = races_bel[races_bel[\"odds\"] == odds]\n",
    "    \n",
    "    fig = px.scatter(df0, x = \"longitude\", y = \"latitude\", opacity = 0.8,\n",
    "                     hover_data = [\"race_date\", \"distance_id\", \"purse\"],\n",
    "                     color = \"trakus_index\", color_continuous_scale = \"Turbo\", #range_color = (0, 399),\n",
    "                     title = f\"Flavien Prat Trakus Index Race Pathing,  Odds: {odds}  track_id = BEL\")\n",
    "\n",
    "    fig.update_traces(marker = dict(symbol = \"square-open\", size = 20)) # scaling the markers\n",
    "    fig.update_layout(template = \"plotly_dark\", font = dict(family = \"PT Sans\", size = 12))\n",
    "    fig.show()"
   ]
  },
  {
   "cell_type": "code",
   "execution_count": null,
   "metadata": {},
   "outputs": [],
   "source": [
    "nyra_2019.head()"
   ]
  },
  {
   "cell_type": "code",
   "execution_count": null,
   "metadata": {},
   "outputs": [],
   "source": [
    "nyra_start.head()"
   ]
  },
  {
   "cell_type": "code",
   "execution_count": null,
   "metadata": {},
   "outputs": [],
   "source": [
    "nyra_start['race_date'] = pd.to_datetime(nyra_start['race_date'])\n",
    "nyra_start['day'], nyra_start['month'] = nyra_start['race_date'].dt.day, nyra_start['race_date'].dt.month"
   ]
  },
  {
   "cell_type": "markdown",
   "metadata": {},
   "source": [
    "# Odds of winning race"
   ]
  },
  {
   "cell_type": "code",
   "execution_count": null,
   "metadata": {
    "_kg_hide-input": true
   },
   "outputs": [],
   "source": [
    "fig = px.scatter(nyra_start, x = \"weight_carried\", y = \"odds\", hover_data = [\"race_number\", \"jockey\"],\n",
    "                 color = \"odds\", color_continuous_scale = colors, range_color = (0, 9999),\n",
    "                 title = \"Odds by Weight Carried\")\n",
    "\n",
    "fig.update_traces(marker = dict(size = 8, symbol = \"circle\")) # scaling the markers\n",
    "fig.update_layout(template = \"plotly_dark\", font = dict(family = \"PT Sans\", size = 20))\n",
    "fig.show()"
   ]
  },
  {
   "cell_type": "code",
   "execution_count": null,
   "metadata": {
    "_kg_hide-input": true
   },
   "outputs": [],
   "source": [
    "fig = px.scatter(nyra_start, x = \"weight_carried\", y = \"day\", hover_data = [\"race_number\", \"jockey\"],\n",
    "                 color = \"odds\", color_continuous_scale = colors, range_color = (0, 9999),\n",
    "                 title = \"Odds by Day of Event and Weight Carried\")\n",
    "\n",
    "fig.update_traces(marker = dict(size = 9, symbol = \"square\")) # scaling the markers\n",
    "fig.update_layout(template = \"plotly_dark\", font = dict(family = \"PT Sans\", size = 20))\n",
    "fig.show()"
   ]
  },
  {
   "cell_type": "code",
   "execution_count": null,
   "metadata": {
    "_kg_hide-input": true
   },
   "outputs": [],
   "source": [
    "fig = px.scatter(nyra_start, x = \"weight_carried\", y = \"month\", hover_data = [\"race_number\", \"jockey\"],\n",
    "                 color = \"odds\", color_continuous_scale = colors, range_color = (0, 9999),\n",
    "                 title = \"Odds by Month of Event and Weight Carried\")\n",
    "\n",
    "fig.update_traces(marker = dict(size = 11, symbol = \"circle\")) # scaling the markers\n",
    "fig.update_layout(template = \"plotly_dark\", font = dict(family = \"PT Sans\", size = 20))\n",
    "fig.show()"
   ]
  },
  {
   "cell_type": "code",
   "execution_count": null,
   "metadata": {},
   "outputs": [],
   "source": [
    "nyra_race.head()"
   ]
  },
  {
   "cell_type": "code",
   "execution_count": null,
   "metadata": {},
   "outputs": [],
   "source": [
    "nyra_race.track_condition.value_counts()"
   ]
  },
  {
   "cell_type": "code",
   "execution_count": null,
   "metadata": {
    "_kg_hide-input": true
   },
   "outputs": [],
   "source": [
    "fig = px.scatter(nyra_race, x = \"post_time\", y = \"run_up_distance\", hover_data = [\"race_number\", \"course_type\"],\n",
    "                 color = \"race_number\", color_discrete_sequence = colors, #range_color = (0, 9999),\n",
    "                 title = \"Post Time by Run Up Distance\")\n",
    "\n",
    "fig.update_traces(marker = dict(size = 4, symbol = \"circle\")) # scaling the markers\n",
    "fig.update_layout(template = \"plotly_dark\", font = dict(family = \"PT Sans\", size = 20))\n",
    "fig.show()"
   ]
  }
 ],
 "metadata": {
  "kernelspec": {
   "display_name": "Python 3 (ipykernel)",
   "language": "python",
   "name": "python3"
  },
  "language_info": {
   "codemirror_mode": {
    "name": "ipython",
    "version": 3
   },
   "file_extension": ".py",
   "mimetype": "text/x-python",
   "name": "python",
   "nbconvert_exporter": "python",
   "pygments_lexer": "ipython3",
   "version": "3.9.12"
  }
 },
 "nbformat": 4,
 "nbformat_minor": 4
}

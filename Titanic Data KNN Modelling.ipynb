{
 "cells": [
  {
   "cell_type": "markdown",
   "metadata": {
    "_cell_guid": "b1076dfc-b9ad-4769-8c92-a6c4dae69d19",
    "_uuid": "8f2839f25d086af736a60e9eeb907d3b93b6e0e5",
    "execution": {
     "iopub.execute_input": "2022-08-25T05:09:36.600892Z",
     "iopub.status.busy": "2022-08-25T05:09:36.600259Z",
     "iopub.status.idle": "2022-08-25T05:09:37.562671Z",
     "shell.execute_reply": "2022-08-25T05:09:37.561683Z",
     "shell.execute_reply.started": "2022-08-25T05:09:36.600805Z"
    }
   },
   "source": [
    "### 1) IMPORTING PACKAGES AND DATA"
   ]
  },
  {
   "cell_type": "code",
   "execution_count": null,
   "metadata": {
    "execution": {
     "iopub.execute_input": "2022-09-06T09:46:14.516016Z",
     "iopub.status.busy": "2022-09-06T09:46:14.51472Z",
     "iopub.status.idle": "2022-09-06T09:46:15.746736Z",
     "shell.execute_reply": "2022-09-06T09:46:15.745384Z",
     "shell.execute_reply.started": "2022-09-06T09:46:14.5159Z"
    }
   },
   "outputs": [],
   "source": [
    "import numpy as np \n",
    "import pandas as pd\n",
    "import seaborn as sns\n",
    "import matplotlib.pyplot as plt"
   ]
  },
  {
   "cell_type": "code",
   "execution_count": null,
   "metadata": {
    "execution": {
     "iopub.execute_input": "2022-09-06T09:46:15.750282Z",
     "iopub.status.busy": "2022-09-06T09:46:15.74973Z",
     "iopub.status.idle": "2022-09-06T09:46:15.78138Z",
     "shell.execute_reply": "2022-09-06T09:46:15.78025Z",
     "shell.execute_reply.started": "2022-09-06T09:46:15.750231Z"
    }
   },
   "outputs": [],
   "source": [
    "train = pd.read_csv('../input/titanic/train.csv')\n",
    "test = pd.read_csv('../input/titanic/test.csv')"
   ]
  },
  {
   "cell_type": "markdown",
   "metadata": {},
   "source": [
    "### 2) CLEANING DATA"
   ]
  },
  {
   "cell_type": "code",
   "execution_count": null,
   "metadata": {
    "execution": {
     "iopub.execute_input": "2022-09-06T09:46:15.783971Z",
     "iopub.status.busy": "2022-09-06T09:46:15.78311Z",
     "iopub.status.idle": "2022-09-06T09:46:15.810076Z",
     "shell.execute_reply": "2022-09-06T09:46:15.809137Z",
     "shell.execute_reply.started": "2022-09-06T09:46:15.783918Z"
    }
   },
   "outputs": [],
   "source": [
    "\n",
    "train.isnull().sum()\n",
    "\n",
    "\n",
    "#combin sipsp and parch to family then drop\n",
    "train['Combine'] = train['SibSp'] +train['Parch']\n",
    "test['Combine'] = test['SibSp'] +test['Parch']\n",
    "\n",
    "\n",
    "#too many cabin null values so I'll just drop\n",
    "#ticket is also irelevant \n",
    "\n",
    "train = train.drop(['Cabin','Ticket','Name','SibSp','Parch'], axis = 1)\n",
    "test = test.drop(['Cabin','Ticket','Name','SibSp','Parch'], axis = 1)"
   ]
  },
  {
   "cell_type": "code",
   "execution_count": null,
   "metadata": {
    "execution": {
     "iopub.execute_input": "2022-09-06T09:46:15.814201Z",
     "iopub.status.busy": "2022-09-06T09:46:15.813093Z",
     "iopub.status.idle": "2022-09-06T09:46:15.829108Z",
     "shell.execute_reply": "2022-09-06T09:46:15.827584Z",
     "shell.execute_reply.started": "2022-09-06T09:46:15.814143Z"
    }
   },
   "outputs": [],
   "source": [
    "train['Age'] = train['Age'].fillna(train['Age'].median())\n",
    "test['Age'] = test['Age'].fillna(test['Age'].median())\n",
    "train['Embarked'] = train['Embarked'].fillna('S')\n",
    "\n",
    "test['Fare'] = test['Fare'].fillna(test['Fare'].median())"
   ]
  },
  {
   "cell_type": "code",
   "execution_count": null,
   "metadata": {
    "execution": {
     "iopub.execute_input": "2022-09-06T09:46:15.832715Z",
     "iopub.status.busy": "2022-09-06T09:46:15.83203Z",
     "iopub.status.idle": "2022-09-06T09:46:15.853412Z",
     "shell.execute_reply": "2022-09-06T09:46:15.851272Z",
     "shell.execute_reply.started": "2022-09-06T09:46:15.832667Z"
    }
   },
   "outputs": [],
   "source": [
    "test.isnull().sum()"
   ]
  },
  {
   "cell_type": "markdown",
   "metadata": {},
   "source": [
    "### 3) DATA VISUALIZATION"
   ]
  },
  {
   "cell_type": "code",
   "execution_count": null,
   "metadata": {
    "execution": {
     "iopub.execute_input": "2022-09-06T09:46:15.85689Z",
     "iopub.status.busy": "2022-09-06T09:46:15.855709Z",
     "iopub.status.idle": "2022-09-06T09:46:15.879771Z",
     "shell.execute_reply": "2022-09-06T09:46:15.878502Z",
     "shell.execute_reply.started": "2022-09-06T09:46:15.856833Z"
    }
   },
   "outputs": [],
   "source": [
    "train.head()"
   ]
  },
  {
   "cell_type": "code",
   "execution_count": null,
   "metadata": {
    "execution": {
     "iopub.execute_input": "2022-09-06T09:46:15.885082Z",
     "iopub.status.busy": "2022-09-06T09:46:15.882675Z",
     "iopub.status.idle": "2022-09-06T09:46:23.150425Z",
     "shell.execute_reply": "2022-09-06T09:46:23.149489Z",
     "shell.execute_reply.started": "2022-09-06T09:46:15.885026Z"
    }
   },
   "outputs": [],
   "source": [
    "sns.pairplot(train, hue ='Survived')"
   ]
  },
  {
   "cell_type": "markdown",
   "metadata": {},
   "source": [
    "From the pairplot, it seems like multiclass classification is not efficient in determining the survival rate"
   ]
  },
  {
   "cell_type": "code",
   "execution_count": null,
   "metadata": {
    "execution": {
     "iopub.execute_input": "2022-09-06T09:46:23.152508Z",
     "iopub.status.busy": "2022-09-06T09:46:23.151883Z",
     "iopub.status.idle": "2022-09-06T09:46:23.441486Z",
     "shell.execute_reply": "2022-09-06T09:46:23.440664Z",
     "shell.execute_reply.started": "2022-09-06T09:46:23.152473Z"
    }
   },
   "outputs": [],
   "source": [
    "sns.histplot(data = train, x = 'Age', hue = 'Survived', bins = 5,\n",
    "            kde = True, stat = 'percent')"
   ]
  },
  {
   "cell_type": "code",
   "execution_count": null,
   "metadata": {
    "execution": {
     "iopub.execute_input": "2022-09-06T09:46:23.443606Z",
     "iopub.status.busy": "2022-09-06T09:46:23.442768Z",
     "iopub.status.idle": "2022-09-06T09:46:23.452342Z",
     "shell.execute_reply": "2022-09-06T09:46:23.450972Z",
     "shell.execute_reply.started": "2022-09-06T09:46:23.44357Z"
    }
   },
   "outputs": [],
   "source": [
    "#set female to 1 and male to 0 for train data\n",
    "train['Sex'] = train['Sex'].map({'male':0, 'female':1}).astype(int)\n",
    "\n",
    "#set female to 1 and male to 0 for test data\n",
    "test['Sex'] = test['Sex'].map({'male':0, 'female':1}).astype(int)"
   ]
  },
  {
   "cell_type": "code",
   "execution_count": null,
   "metadata": {
    "execution": {
     "iopub.execute_input": "2022-09-06T09:46:23.456522Z",
     "iopub.status.busy": "2022-09-06T09:46:23.455954Z",
     "iopub.status.idle": "2022-09-06T09:46:23.465858Z",
     "shell.execute_reply": "2022-09-06T09:46:23.464702Z",
     "shell.execute_reply.started": "2022-09-06T09:46:23.45648Z"
    }
   },
   "outputs": [],
   "source": [
    "#set embarked train and test to 1,2,3\n",
    "\n",
    "train['Embarked'] = train['Embarked'].map({'S':0,'C':1,'Q':2}).astype(int)\n",
    "test['Embarked'] = test['Embarked'].map({'S':0,'C':1,'Q':2}).astype(int)"
   ]
  },
  {
   "cell_type": "code",
   "execution_count": null,
   "metadata": {
    "execution": {
     "iopub.execute_input": "2022-09-06T09:46:23.468017Z",
     "iopub.status.busy": "2022-09-06T09:46:23.46763Z",
     "iopub.status.idle": "2022-09-06T09:46:23.476357Z",
     "shell.execute_reply": "2022-09-06T09:46:23.47552Z",
     "shell.execute_reply.started": "2022-09-06T09:46:23.467985Z"
    }
   },
   "outputs": [],
   "source": [
    "x = train.drop('Survived',axis =1)\n",
    "y = train['Survived']"
   ]
  },
  {
   "cell_type": "code",
   "execution_count": null,
   "metadata": {
    "execution": {
     "iopub.execute_input": "2022-09-06T09:46:23.478315Z",
     "iopub.status.busy": "2022-09-06T09:46:23.477739Z",
     "iopub.status.idle": "2022-09-06T09:46:23.745921Z",
     "shell.execute_reply": "2022-09-06T09:46:23.744718Z",
     "shell.execute_reply.started": "2022-09-06T09:46:23.478267Z"
    }
   },
   "outputs": [],
   "source": [
    "from sklearn.model_selection import train_test_split\n",
    "from sklearn.linear_model import LogisticRegression\n",
    "x_train, x_test, y_train, y_test = train_test_split(x,y)\n",
    "\n",
    "#create logistic regression object\n",
    "\n",
    "log_model = LogisticRegression(max_iter = 1000)\n",
    "log_model.fit(x_train,y_train)\n",
    "\n",
    "\n",
    "prediction = log_model.predict(x_test)\n",
    "\n",
    "from sklearn.metrics import accuracy_score\n",
    "accuracy_score(y_test,prediction)"
   ]
  },
  {
   "cell_type": "markdown",
   "metadata": {},
   "source": [
    "### Using KNN Algorithm"
   ]
  },
  {
   "cell_type": "code",
   "execution_count": null,
   "metadata": {
    "execution": {
     "iopub.execute_input": "2022-09-06T09:46:23.74758Z",
     "iopub.status.busy": "2022-09-06T09:46:23.747238Z",
     "iopub.status.idle": "2022-09-06T09:46:23.826356Z",
     "shell.execute_reply": "2022-09-06T09:46:23.824945Z",
     "shell.execute_reply.started": "2022-09-06T09:46:23.747549Z"
    }
   },
   "outputs": [],
   "source": [
    "X_train = train.drop(['PassengerId','Survived'], axis = 1)\n",
    "Y_train = train['Survived']\n",
    "\n",
    "from sklearn.neighbors import KNeighborsClassifier\n",
    "from sklearn import metrics\n",
    "\n",
    "\n",
    "#apply to training dataset\n",
    "\n",
    "knn_pred = KNeighborsClassifier(n_neighbors = 3)\n",
    "\n",
    "knn_pred.fit(X_train,Y_train)\n",
    "\n",
    "y_pred_knn = knn_pred.predict(x_test.drop('PassengerId',axis=1))\n",
    "print(metrics.accuracy_score(y_test,y_pred_knn))\n"
   ]
  },
  {
   "cell_type": "code",
   "execution_count": null,
   "metadata": {
    "execution": {
     "iopub.execute_input": "2022-09-06T09:46:23.828147Z",
     "iopub.status.busy": "2022-09-06T09:46:23.827762Z",
     "iopub.status.idle": "2022-09-06T09:46:24.05559Z",
     "shell.execute_reply": "2022-09-06T09:46:24.054793Z",
     "shell.execute_reply.started": "2022-09-06T09:46:23.828115Z"
    }
   },
   "outputs": [],
   "source": [
    "#cycle to different k values\n",
    "\n",
    "k_range = [1,100]\n",
    "\n",
    "accuracy = []\n",
    "\n",
    "for k in k_range:\n",
    "    knn = KNeighborsClassifier(n_neighbors = k)\n",
    "    knn.fit(X_train,Y_train)\n",
    "    \n",
    "    y_pred_knn = knn.predict(x_test.drop('PassengerId',axis = 1))\n",
    "    accuracy.append(metrics.accuracy_score(y_test, y_pred_knn))\n",
    "\n",
    "plt.plot(k_range,accuracy)"
   ]
  },
  {
   "cell_type": "code",
   "execution_count": null,
   "metadata": {
    "execution": {
     "iopub.execute_input": "2022-09-06T09:52:10.80535Z",
     "iopub.status.busy": "2022-09-06T09:52:10.804924Z",
     "iopub.status.idle": "2022-09-06T09:52:10.828491Z",
     "shell.execute_reply": "2022-09-06T09:52:10.827349Z",
     "shell.execute_reply.started": "2022-09-06T09:52:10.805308Z"
    }
   },
   "outputs": [],
   "source": [
    "submission_pred = knn_pred.predict(test.drop('PassengerId',axis = 1))\n",
    "\n",
    "df = pd.DataFrame({'PassengerId':test.PassengerId,\n",
    "                 'Survived':submission_pred})"
   ]
  },
  {
   "cell_type": "code",
   "execution_count": null,
   "metadata": {
    "execution": {
     "iopub.execute_input": "2022-09-06T09:52:39.653544Z",
     "iopub.status.busy": "2022-09-06T09:52:39.653121Z",
     "iopub.status.idle": "2022-09-06T09:52:39.663574Z",
     "shell.execute_reply": "2022-09-06T09:52:39.662533Z",
     "shell.execute_reply.started": "2022-09-06T09:52:39.65351Z"
    }
   },
   "outputs": [],
   "source": [
    "df.to_csv('Submission.csv', index = False)"
   ]
  },
  {
   "cell_type": "code",
   "execution_count": null,
   "metadata": {},
   "outputs": [],
   "source": []
  }
 ],
 "metadata": {
  "kernelspec": {
   "display_name": "Python 3 (ipykernel)",
   "language": "python",
   "name": "python3"
  },
  "language_info": {
   "codemirror_mode": {
    "name": "ipython",
    "version": 3
   },
   "file_extension": ".py",
   "mimetype": "text/x-python",
   "name": "python",
   "nbconvert_exporter": "python",
   "pygments_lexer": "ipython3",
   "version": "3.9.12"
  }
 },
 "nbformat": 4,
 "nbformat_minor": 4
}
